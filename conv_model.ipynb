{
 "cells": [
  {
   "cell_type": "markdown",
   "metadata": {},
   "source": [
    "### import and implement model"
   ]
  },
  {
   "cell_type": "code",
   "execution_count": null,
   "metadata": {},
   "outputs": [],
   "source": [
    "# packages\n",
    "import torch.nn as nn\n",
    "import torch.optim as optim\n",
    "from torch.nn import Conv2d, LeakyReLU, MaxPool2d, Linear # import them seperetly because I think its more readable\n",
    "from torchvision.io import read_image\n",
    "from torch.utils.data import DataLoader, random_split\n",
    "from torchmetrics.classification import BinaryPrecision\n",
    "import torch\n",
    "import pandas as pd\n",
    "import numpy as np\n",
    "import os \n",
    "import gc\n",
    "from torchvision.transforms.v2 import Resize"
   ]
  },
  {
   "cell_type": "code",
   "execution_count": 2,
   "metadata": {},
   "outputs": [
    {
     "data": {
      "text/plain": [
       "<torch._C.Generator at 0x2806bcf0110>"
      ]
     },
     "execution_count": 2,
     "metadata": {},
     "output_type": "execute_result"
    }
   ],
   "source": [
    "# set wd\n",
    "os.chdir('C:/Users/dalto/OneDrive/Pictures/Documents/Projects/Fracture')\n",
    "\n",
    "# set seed\n",
    "torch.manual_seed(126)"
   ]
  },
  {
   "cell_type": "markdown",
   "metadata": {},
   "source": [
    "import data and load onto tensors"
   ]
  },
  {
   "cell_type": "code",
   "execution_count": 3,
   "metadata": {},
   "outputs": [],
   "source": [
    "# image dataset class\n",
    "class ImageDataset():\n",
    "    def __init__(self, class_dir, img_dir): # load labels and the img \n",
    "        self.img_labels = pd.read_csv(class_dir)\n",
    "        self.img_dir = img_dir\n",
    "        self.transforms = Resize((224,224), antialias=True)\n",
    "\n",
    "    def __len__ (self): # len of labels for image\n",
    "        return len(self.img_labels)\n",
    "    \n",
    "    def __getitem__(self, idx):\n",
    "        img_path = os.path.join(self.img_dir, self.img_labels.iloc[idx, 0])\n",
    "        try:\n",
    "            image = read_image(img_path)  # read image\n",
    "        except Exception:\n",
    "            # Get a random index and try to load a different image\n",
    "            new_idx = torch.randint(0, len(self.img_labels), (1,)).item()\n",
    "            img_path = os.path.join(self.img_dir, self.img_labels.iloc[new_idx, 0])\n",
    "            image = read_image(img_path)\n",
    "            \n",
    "        image = self.transforms(image)\n",
    "        label = self.img_labels.iloc[idx, 1] # read label\n",
    "        return image, label\n"
   ]
  },
  {
   "cell_type": "code",
   "execution_count": null,
   "metadata": {},
   "outputs": [],
   "source": [
    "# directories for classes and images\n",
    "class_dir = './images/class_ids.csv' \n",
    "image_dir = './images/resize_data' \n",
    "\n",
    "# load dataset using made class function\n",
    "data_set = ImageDataset(class_dir, image_dir) # create dataset\n",
    "\n",
    "# set train and test set\n",
    "train_size = int(.75 * len(data_set)) \n",
    "test_size = int(.125 * len(data_set)) \n",
    "val_size = len(data_set) - test_size - train_size\n",
    "\n",
    "# random split \n",
    "training, testing, val = random_split(data_set, [train_size, test_size, val_size])"
   ]
  },
  {
   "cell_type": "code",
   "execution_count": 5,
   "metadata": {},
   "outputs": [],
   "source": [
    "batch_size = 32 # batch size, up from 32\n",
    "device = \"cuda\" # use gpu"
   ]
  },
  {
   "cell_type": "code",
   "execution_count": 6,
   "metadata": {},
   "outputs": [],
   "source": [
    "# load the split data on the tensors\n",
    "train_loader = DataLoader(training, batch_size=batch_size, shuffle=True)\n",
    "test_loader = DataLoader(testing, batch_size=batch_size, shuffle=True)\n",
    "val_loader = DataLoader(val, batch_size=batch_size, shuffle=True)"
   ]
  },
  {
   "cell_type": "code",
   "execution_count": 7,
   "metadata": {},
   "outputs": [
    {
     "name": "stdout",
     "output_type": "stream",
     "text": [
      "True\n"
     ]
    }
   ],
   "source": [
    "print(torch.cuda.is_available()) # check if gpu is working correctly"
   ]
  },
  {
   "cell_type": "markdown",
   "metadata": {},
   "source": [
    "model without transfer learning (will add just wanted to build one from stratch)"
   ]
  },
  {
   "cell_type": "code",
   "execution_count": 8,
   "metadata": {},
   "outputs": [],
   "source": [
    "# I chose to use a CNN for the image classifcation. \n",
    "# CNNs preform much better then feed forward networks for image classification tasks and are still easy to implement\n",
    "\n",
    "class CNN (nn.Module):\n",
    "    def __init__(self):\n",
    "        super().__init__()\n",
    "        # 1 input layer, to 32 filters, stride of one pixel, 3x3 kernal, padding = (kernal - 1)/2\n",
    "\n",
    "        # 3 layers like this\n",
    "        self.conv1 = Conv2d(in_channels=1, out_channels=64, stride=1, kernel_size=3, padding=1) \n",
    "        self.Lrelu1 = LeakyReLU() # better preformance on average compared to regular ReLu\n",
    "        self.bn1 = nn.BatchNorm2d(64)# prevent exploding / vanishing gradients\n",
    "        self.conv2 = Conv2d(in_channels=64, out_channels=64, stride=1, kernel_size=5, padding=2)\n",
    "        self.Lrelu2 = LeakyReLU()\n",
    "        self.bn2 = nn.BatchNorm2d(64)\n",
    "        self.maxpool1 = MaxPool2d(kernel_size = 2, stride = 2)\n",
    "\n",
    "        # 3 layers like this\n",
    "        self.conv3 = Conv2d(in_channels=64, out_channels=128, stride=1, kernel_size=5, padding=2) \n",
    "        self.Lrelu3 = LeakyReLU() # better preformance on average compared to regular ReLu\n",
    "        self.bn3 = nn.BatchNorm2d(128)\n",
    "        self.conv4 = Conv2d(in_channels=128, out_channels=128, stride=1, kernel_size=7, padding=3)\n",
    "        self.Lrelu4 = LeakyReLU()\n",
    "        self.bn4 = nn.BatchNorm2d(128)\n",
    "        self.maxpool2 = MaxPool2d(kernel_size = 2, stride = 2)\n",
    "\n",
    "        # 3 layers like this\n",
    "        self.conv5 = Conv2d(in_channels=128, out_channels=256, stride=1, kernel_size=5, padding=2) \n",
    "        self.Lrelu5 = LeakyReLU() # better preformance on average compared to regular ReLu\n",
    "        self.bn5 = nn.BatchNorm2d(256)\n",
    "        self.conv6 = Conv2d(in_channels=256, out_channels=256, stride=1, kernel_size=3, padding=1)\n",
    "        self.Lrelu6 = LeakyReLU()\n",
    "        self.bn6 = nn.BatchNorm2d(256)\n",
    "        self.maxpool3 = MaxPool2d(kernel_size = 2, stride = 2)\n",
    "\n",
    "        # reduce the number of features\n",
    "        self.global_avg_pool = nn.AdaptiveAvgPool2d((1, 1))\n",
    "\n",
    "        # fully connected layers\n",
    "        self.fc1 = Linear(256, 512) # pool layer reduces \n",
    "        self.relu1 = LeakyReLU()\n",
    "        self.fc3 = Linear(512, 256)\n",
    "        self.relu3 = LeakyReLU()\n",
    "        self.dropout2 = nn.Dropout(p = 0.4)\n",
    "        self.fc4 = nn.Linear(256, 1) # one output\n",
    "\n",
    "\n",
    "        # this reduces overfitting making one neuron not resposnible for everything, also improves regualrization\n",
    "\n",
    "    def forward(self, x):\n",
    "        # Pass through Convolutional Block 1\n",
    "        x = self.conv1(x)\n",
    "        x = self.Lrelu1(x)\n",
    "        x = self.bn1(x)\n",
    "        x = self.conv2(x)\n",
    "        x = self.Lrelu2(x)\n",
    "        x = self.bn2(x)\n",
    "        x = self.maxpool1(x)\n",
    "\n",
    "        # Pass through Convolutional Block 2\n",
    "        x = self.conv3(x)\n",
    "        x = self.Lrelu3(x)\n",
    "        x = self.bn3(x)\n",
    "        x = self.conv4(x)\n",
    "        x = self.Lrelu4(x)\n",
    "        x = self.bn4(x)\n",
    "        x = self.maxpool2(x)\n",
    "\n",
    "        # Pass through Convolutional Block 3\n",
    "        x = self.conv5(x)\n",
    "        x = self.Lrelu5(x)\n",
    "        x = self.bn5(x)\n",
    "        x = self.conv6(x)\n",
    "        x = self.Lrelu6(x)\n",
    "        x = self.bn6(x)\n",
    "        x = self.maxpool3(x)\n",
    "\n",
    "        # pooling layer\n",
    "        x = self.global_avg_pool(x)\n",
    "\n",
    "        # flatten\n",
    "        x = torch.flatten(x, 1)\n",
    "\n",
    "        # Pass through Fully Connected Layers\n",
    "        x = self.fc1(x)\n",
    "        x = self.relu1(x) \n",
    "        x = self.fc3(x)\n",
    "        x = self.dropout2(x) # Apply dropout\n",
    "        x = self.relu3(x)\n",
    "\n",
    "        # Pass through the final Linear layer\n",
    "        x = self.fc4(x)\n",
    "\n",
    "        # Apply Dropout, sigmoind applied in loss function, better preformance\n",
    "\n",
    "        return x\n"
   ]
  },
  {
   "cell_type": "markdown",
   "metadata": {},
   "source": [
    "model training loop"
   ]
  },
  {
   "cell_type": "code",
   "execution_count": 9,
   "metadata": {},
   "outputs": [
    {
     "data": {
      "text/plain": [
       "CNN(\n",
       "  (conv1): Conv2d(1, 64, kernel_size=(3, 3), stride=(1, 1), padding=(1, 1))\n",
       "  (Lrelu1): LeakyReLU(negative_slope=0.01)\n",
       "  (bn1): BatchNorm2d(64, eps=1e-05, momentum=0.1, affine=True, track_running_stats=True)\n",
       "  (conv2): Conv2d(64, 64, kernel_size=(5, 5), stride=(1, 1), padding=(2, 2))\n",
       "  (Lrelu2): LeakyReLU(negative_slope=0.01)\n",
       "  (bn2): BatchNorm2d(64, eps=1e-05, momentum=0.1, affine=True, track_running_stats=True)\n",
       "  (maxpool1): MaxPool2d(kernel_size=2, stride=2, padding=0, dilation=1, ceil_mode=False)\n",
       "  (conv3): Conv2d(64, 128, kernel_size=(5, 5), stride=(1, 1), padding=(2, 2))\n",
       "  (Lrelu3): LeakyReLU(negative_slope=0.01)\n",
       "  (bn3): BatchNorm2d(128, eps=1e-05, momentum=0.1, affine=True, track_running_stats=True)\n",
       "  (conv4): Conv2d(128, 128, kernel_size=(7, 7), stride=(1, 1), padding=(3, 3))\n",
       "  (Lrelu4): LeakyReLU(negative_slope=0.01)\n",
       "  (bn4): BatchNorm2d(128, eps=1e-05, momentum=0.1, affine=True, track_running_stats=True)\n",
       "  (maxpool2): MaxPool2d(kernel_size=2, stride=2, padding=0, dilation=1, ceil_mode=False)\n",
       "  (conv5): Conv2d(128, 256, kernel_size=(5, 5), stride=(1, 1), padding=(2, 2))\n",
       "  (Lrelu5): LeakyReLU(negative_slope=0.01)\n",
       "  (bn5): BatchNorm2d(256, eps=1e-05, momentum=0.1, affine=True, track_running_stats=True)\n",
       "  (conv6): Conv2d(256, 256, kernel_size=(3, 3), stride=(1, 1), padding=(1, 1))\n",
       "  (Lrelu6): LeakyReLU(negative_slope=0.01)\n",
       "  (bn6): BatchNorm2d(256, eps=1e-05, momentum=0.1, affine=True, track_running_stats=True)\n",
       "  (maxpool3): MaxPool2d(kernel_size=2, stride=2, padding=0, dilation=1, ceil_mode=False)\n",
       "  (global_avg_pool): AdaptiveAvgPool2d(output_size=(1, 1))\n",
       "  (fc1): Linear(in_features=256, out_features=512, bias=True)\n",
       "  (relu1): LeakyReLU(negative_slope=0.01)\n",
       "  (fc3): Linear(in_features=512, out_features=256, bias=True)\n",
       "  (relu3): LeakyReLU(negative_slope=0.01)\n",
       "  (dropout2): Dropout(p=0.4, inplace=False)\n",
       "  (fc4): Linear(in_features=256, out_features=1, bias=True)\n",
       ")"
      ]
     },
     "execution_count": 9,
     "metadata": {},
     "output_type": "execute_result"
    }
   ],
   "source": [
    "# run model on GPU\n",
    "model = CNN()\n",
    "model.to(device)"
   ]
  },
  {
   "cell_type": "code",
   "execution_count": 10,
   "metadata": {},
   "outputs": [],
   "source": [
    "learning_rate = 0.1 # standard learning rate\n",
    "loss_fn = nn.BCEWithLogitsLoss() # add activation function in here\n",
    "optimizer = optim.AdamW(model.parameters(), lr=learning_rate) # adam w has better preformance, weight decay is applied sep, \n",
    "# leads to more peak ram may have to reduce batch size"
   ]
  },
  {
   "cell_type": "code",
   "execution_count": 11,
   "metadata": {},
   "outputs": [],
   "source": [
    "def val_set_test():\n",
    "    model.eval()  # Set model to evaluation mode\n",
    "    val_loss = 0.0\n",
    "    n_rounds = 0\n",
    "    with torch.no_grad():  # Disable gradient computation\n",
    "        for batch_idx, (image, label) in enumerate(val_loader):\n",
    "            # set up\n",
    "            image = image.to(device).float()\n",
    "            label = label.to(device).float()\n",
    "            \n",
    "            # make predictions on val\n",
    "            predictions = model(image)\n",
    "            predictions = predictions.squeeze()\n",
    "            loss = loss_fn(predictions, label)\n",
    "            \n",
    "            # loss\n",
    "            val_loss += loss.item()\n",
    "            n_rounds = batch_idx + 1\n",
    "            \n",
    "    model.train()  # Set model back to training mode\n",
    "    return val_loss / n_rounds\n",
    "    "
   ]
  },
  {
   "cell_type": "code",
   "execution_count": 12,
   "metadata": {},
   "outputs": [],
   "source": [
    "def training(epochs):\n",
    "    model.train()  # Set the model to training mode\n",
    "    training_losses = []  # To track loss history\n",
    "    min_loss = float('inf') # es min loss\n",
    "    patience = 0 # es track\n",
    "    scheduler = optim.lr_scheduler.StepLR(optimizer, step_size=20, gamma=0.1) # learning rate decay, 0.1 is default gammma\n",
    "    for i in range(epochs):\n",
    "        tloss = 0.0\n",
    "        n_rounds = 0\n",
    "        for batch_idx, (image, label) in enumerate(train_loader):\n",
    "            # Move data to device and ensure correct data types\n",
    "            image = image.to(device).float()\n",
    "            label = label.to(device).float()\n",
    "        \n",
    "            # Zero gradients\n",
    "            optimizer.zero_grad()\n",
    "        \n",
    "            # Forward pass\n",
    "            predictions = model(image)\n",
    "            predictions = predictions.squeeze()\n",
    "            loss = loss_fn(predictions, label)\n",
    "        \n",
    "            # Backward pass and optimization\n",
    "            loss.backward()\n",
    "            optimizer.step()\n",
    "\n",
    "            # Accumulate loss\n",
    "            tloss += loss.item()\n",
    "            n_rounds = batch_idx + 1\n",
    "            avg_loss = tloss / n_rounds\n",
    "\n",
    "            # Update training loss stats\n",
    "            training_losses.append(avg_loss)\n",
    "\n",
    "        # early stopping\n",
    "        val_loss = val_set_test() # return loss for validation set\n",
    "        \n",
    "        if val_loss > min_loss:\n",
    "            patience += 1\n",
    "\n",
    "        if val_loss < min_loss:\n",
    "            min_loss = val_loss\n",
    "            patience = 0\n",
    "\n",
    "        if patience > 10: # early stopping after 5 rounds\n",
    "            print(f\"early stopping at round {i}\")\n",
    "            return model, training_losses\n",
    "\n",
    "        scheduler.step() # step for learning rate decay\n",
    "        print(f\"{avg_loss} is the average loss at epoch {i}\") # still provide avg and epoch after through early stopping\n",
    "\n",
    "    \n",
    "    return model, training_losses\n",
    "\n"
   ]
  },
  {
   "cell_type": "code",
   "execution_count": 13,
   "metadata": {},
   "outputs": [
    {
     "data": {
      "text/plain": [
       "36"
      ]
     },
     "execution_count": 13,
     "metadata": {},
     "output_type": "execute_result"
    }
   ],
   "source": [
    "# memory manage\n",
    "torch.cuda.empty_cache()\n",
    "gc.collect()"
   ]
  },
  {
   "cell_type": "code",
   "execution_count": null,
   "metadata": {},
   "outputs": [],
   "source": [
    "t_model, t_loss = training(300)"
   ]
  },
  {
   "cell_type": "code",
   "execution_count": null,
   "metadata": {},
   "outputs": [],
   "source": [
    "results = [] # array for res\n",
    "model.eval() # set model to eval mode, disables dropout\n",
    "\n",
    "# testing loop\n",
    "for images, labels in test_loader:\n",
    "    images = images.to(device).float() # load onto device with correct data type\n",
    "    labels = labels.to(device).float()\n",
    "\n",
    "    predictions = model(images) # make predections on image in model\n",
    "    preds_1_0 = torch.where(predictions>0.5, 1, 0)\n",
    "    correct = (preds_1_0 == labels)\n",
    "    results.append(correct.detach().cpu().numpy().mean())\n",
    "\n",
    "    precision = BinaryPrecision().to(device) # binary percison\n",
    "    result = precision(preds_1_0.squeeze(), labels)\n",
    "    \n",
    "\n",
    "accuracy = np.array(results).mean()\n",
    "print(accuracy)\n",
    "print(f\"Binary Precision: {result}\")\n"
   ]
  }
 ],
 "metadata": {
  "kernelspec": {
   "display_name": "base",
   "language": "python",
   "name": "python3"
  },
  "language_info": {
   "codemirror_mode": {
    "name": "ipython",
    "version": 3
   },
   "file_extension": ".py",
   "mimetype": "text/x-python",
   "name": "python",
   "nbconvert_exporter": "python",
   "pygments_lexer": "ipython3",
   "version": "3.12.7"
  }
 },
 "nbformat": 4,
 "nbformat_minor": 2
}
