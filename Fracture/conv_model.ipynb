{
 "cells": [
  {
   "cell_type": "markdown",
   "metadata": {},
   "source": [
    "### import and implement model"
   ]
  },
  {
   "cell_type": "code",
   "execution_count": 1,
   "metadata": {},
   "outputs": [],
   "source": [
    "# packages\n",
    "import torch\n",
    "import torch.nn as nn\n",
    "from torch.nn import Conv2d, LeakyReLU, MaxPool2d, Linear# import them seperetly because I think its more readable\n",
    "from torchvision.io import read_image\n",
    "from torch.utils.data import DataLoader, random_split\n",
    "import pandas as pd\n",
    "import os \n",
    "# set wd\n",
    "os.chdir('C:/Users/dalto/OneDrive/Pictures/Documents/Projects/PyTorch/Fracture')"
   ]
  },
  {
   "cell_type": "markdown",
   "metadata": {},
   "source": [
    "import data and load onto tensors"
   ]
  },
  {
   "cell_type": "code",
   "execution_count": 2,
   "metadata": {},
   "outputs": [],
   "source": [
    "# image dataset class\n",
    "class ImageDataset():\n",
    "    def __init__(self, class_dir, img_dir): # load labels and the img \n",
    "        self.img_labels = pd.read_csv(class_dir)\n",
    "        self.img_dir = img_dir\n",
    "\n",
    "    def __len__ (self): # len of labels for image\n",
    "        return len(self.img_labels)\n",
    "    \n",
    "    def __getitem__(self, idx):\n",
    "        img_path = os.path.join(self.img_dir, self.img_labels.iloc[idx, 0])  \n",
    "        image = read_image(img_path)  # read image\n",
    "        label = self.img_labels.iloc[idx, 1] # read label\n",
    "        return image, label\n"
   ]
  },
  {
   "cell_type": "code",
   "execution_count": 3,
   "metadata": {},
   "outputs": [],
   "source": [
    "# directories for classes and images\n",
    "class_dir = './images/class_ids.csv' \n",
    "image_dir = './images/resize_data' \n",
    "\n",
    "# load dataset using made class function\n",
    "data_set = ImageDataset(class_dir, image_dir) # create dataset\n",
    "\n",
    "# set train and test set\n",
    "train_size = int(.9 * len(data_set)) # using 90% for training, can introduce more testing samples if testing isnt robust enough\n",
    "test_size = len(data_set) - train_size\n",
    "\n",
    "# random split \n",
    "training, testing = random_split(data_set, [train_size, test_size])\n",
    "\n",
    "# load the split data on the tensors\n",
    "train_loader = DataLoader(training, batch_size=32, shuffle=True)\n",
    "test_loader = DataLoader(testing, batch_size=32, shuffle=True)"
   ]
  },
  {
   "cell_type": "code",
   "execution_count": 4,
   "metadata": {},
   "outputs": [
    {
     "name": "stdout",
     "output_type": "stream",
     "text": [
      "True\n"
     ]
    }
   ],
   "source": [
    "print(torch.cuda.is_available()) # check if gpu is working correctly"
   ]
  },
  {
   "cell_type": "markdown",
   "metadata": {},
   "source": [
    "model without transfer learning (will add just wanted to build one from stratch)"
   ]
  },
  {
   "cell_type": "code",
   "execution_count": null,
   "metadata": {},
   "outputs": [],
   "source": [
    "# I chose to use a CNN for the image classifcation. \n",
    "# CNNs preform much better then feed forward networks for image classification tasks and are still easy to implement\n",
    "\n",
    "class CNN(nn.Module):\n",
    "    def __init__(self):\n",
    "        super().__init__()\n",
    "        # 1 input layer, to 32 filters, stride of one pixel, 3x3 kernal, padding = (kernal - 1)/2\n",
    "\n",
    "        # 3 layers like this\n",
    "        self.conv1 = Conv2d(in_channels=1, out_channels=32, stride=1, kernel_size=3, padding=1) \n",
    "        self.Lrelu1 = LeakyReLU() # better preformance on average compared to regular ReLu\n",
    "        self.conv2 = Conv2d(in_channels=32, out_channels=32, stride=1, kernel_size=3, padding=1)\n",
    "        self.Lrelu2 = LeakyReLU()\n",
    "        self.maxpool1 = MaxPool2d(kernel_size = 2, stride = 2)\n",
    "\n",
    "        # 3 layers like this\n",
    "        self.conv3 = Conv2d(in_channels=32, out_channels=64, stride=1, kernel_size=3, padding=1) \n",
    "        self.Lrelu3 = LeakyReLU() # better preformance on average compared to regular ReLu\n",
    "        self.conv4 = Conv2d(in_channels=64, out_channels=64, stride=1, kernel_size=3, padding=1)\n",
    "        self.Lrelu4 = LeakyReLU()\n",
    "        self.maxpool2 = MaxPool2d(kernel_size = 2, stride = 2)\n",
    "\n",
    "        # 3 layers like this\n",
    "        self.conv5 = Conv2d(in_channels=64, out_channels=128, stride=1, kernel_size=3, padding=1) \n",
    "        self.Lrelu5 = LeakyReLU() # better preformance on average compared to regular ReLu\n",
    "        self.conv6 = Conv2d(in_channels=128, out_channels=128, stride=1, kernel_size=3, padding=1)\n",
    "        self.Lrelu6 = LeakyReLU()\n",
    "        self.maxpool3 = MaxPool2d(kernel_size = 2, stride = 2)\n",
    "\n",
    "        # fully connected layers\n",
    "        self.fc1 = Linear(100352, 1024) # 100352 = 128 * 28 * 28 | 28 = W/8\n",
    "        self.relu1 = LeakyReLU()\n",
    "        self.fc2 = Linear(1024, 512)\n",
    "        self.relu2 = LeakyReLU()\n",
    "        self.fc3 = Linear(512, 256)\n",
    "        self.relu3 = LeakyReLU()\n",
    "        self.fc4 = nn.Linear(256, 1) # one output\n",
    "\n",
    "        self.dropout = nn.Dropout(p=0.2), # 20% chance a nueron would be dropped, this reduces overfitting making one neuron not resposnible for everything, also improves regualrization\n",
    "        self.activation = nn.Sigmoid()\n",
    "\n",
    "    def foward_pass(self, x):\n",
    "        # Pass through Convolutional Block 1\n",
    "        x = self.conv1(x)\n",
    "        x = self.Lrelu1(x)\n",
    "        x = self.conv2(x)\n",
    "        x = self.Lrelu2(x)\n",
    "        x = self.maxpool1(x)\n",
    "\n",
    "        # Pass through Convolutional Block 2\n",
    "        x = self.conv3(x)\n",
    "        x = self.Lrelu3(x)\n",
    "        x = self.conv4(x)\n",
    "        x = self.Lrelu4(x)\n",
    "        x = self.maxpool2(x)\n",
    "\n",
    "        # Pass through Convolutional Block 3\n",
    "        x = self.conv5(x)\n",
    "        x = self.Lrelu5(x)\n",
    "        x = self.conv6(x)\n",
    "        x = self.Lrelu6(x)\n",
    "        x = self.maxpool3(x)\n",
    "\n",
    "        x = x.view(x.size(0), -1)\n",
    "\n",
    "        # Pass through Fully Connected Layers\n",
    "        x = self.fc1(x)\n",
    "        x = self.relu1(x)\n",
    "        x = self.fc2(x)\n",
    "        x = self.relu2(x)\n",
    "        x = self.fc3(x)\n",
    "        x = self.relu3(x)\n",
    "\n",
    "        # Pass through the final Linear layer\n",
    "        x = self.fc4(x)\n",
    "\n",
    "        # Apply Dropout and Sigmoid activation\n",
    "        x = self.dropout(x) # Apply dropout\n",
    "        x = self.sigmoid(x) # Apply final sigmoid activation\n",
    "\n",
    "        return x\n",
    "\n",
    "        \n"
   ]
  }
 ],
 "metadata": {
  "kernelspec": {
   "display_name": "base",
   "language": "python",
   "name": "python3"
  },
  "language_info": {
   "codemirror_mode": {
    "name": "ipython",
    "version": 3
   },
   "file_extension": ".py",
   "mimetype": "text/x-python",
   "name": "python",
   "nbconvert_exporter": "python",
   "pygments_lexer": "ipython3",
   "version": "3.12.7"
  }
 },
 "nbformat": 4,
 "nbformat_minor": 2
}
