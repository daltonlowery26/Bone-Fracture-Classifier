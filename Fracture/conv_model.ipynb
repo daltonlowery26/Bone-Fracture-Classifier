{
 "cells": [
  {
   "cell_type": "markdown",
   "metadata": {},
   "source": [
    "### import and implement model"
   ]
  },
  {
   "cell_type": "code",
   "execution_count": 1,
   "metadata": {},
   "outputs": [],
   "source": [
    "# packages\n",
    "import torch\n",
    "import torch.nn as nn\n",
    "from torch.nn import Conv2d\n",
    "from torchvision.io import read_image\n",
    "from torch.utils.data import DataLoader, random_split\n",
    "import pandas as pd\n",
    "import os \n",
    "# set wd\n",
    "os.chdir('C:/Users/dalto/OneDrive/Pictures/Documents/Projects/PyTorch/Fracture')"
   ]
  },
  {
   "cell_type": "markdown",
   "metadata": {},
   "source": [
    "import data and load onto tensors"
   ]
  },
  {
   "cell_type": "code",
   "execution_count": 2,
   "metadata": {},
   "outputs": [],
   "source": [
    "# image dataset class\n",
    "class ImageDataset():\n",
    "    def __init__(self, class_dir, img_dir): # load labels and the img \n",
    "        self.img_labels = pd.read_csv(class_dir)\n",
    "        self.img_dir = img_dir\n",
    "\n",
    "    def __len__ (self): # len of labels for image\n",
    "        return len(self.img_labels)\n",
    "    \n",
    "    def __getitem__(self, idx):\n",
    "        img_path = os.path.join(self.img_dir, self.img_labels.iloc[idx, 0])  \n",
    "        image = read_image(img_path)  # read image\n",
    "        label = self.img_labels.iloc[idx, 1] # read label\n",
    "        return image, label\n"
   ]
  },
  {
   "cell_type": "code",
   "execution_count": 4,
   "metadata": {},
   "outputs": [],
   "source": [
    "# directories for classes and images\n",
    "class_dir = './images/class_ids.csv' \n",
    "image_dir = './images/resize_data' \n",
    "\n",
    "# load dataset using made class function\n",
    "data_set = ImageDataset(class_dir, image_dir) # create dataset\n",
    "\n",
    "# set train and test set\n",
    "train_size = int(.9 * len(data_set)) # using 90% for training, can introduce more testing samples if testing isnt robust enough\n",
    "test_size = len(data_set) - train_size\n",
    "\n",
    "# random split \n",
    "training, testing = random_split(data_set, [train_size, test_size])\n",
    "\n",
    "# load the split data on the tensors\n",
    "train_loader = DataLoader(training, batch_size=32, shuffle=True)\n",
    "test_loader = DataLoader(testing, batch_size=32, shuffle=True)\n",
    "\n"
   ]
  },
  {
   "cell_type": "code",
   "execution_count": 5,
   "metadata": {},
   "outputs": [
    {
     "name": "stdout",
     "output_type": "stream",
     "text": [
      "True\n"
     ]
    }
   ],
   "source": [
    "print(torch.cuda.is_available()) # check if gpu is working correctly"
   ]
  },
  {
   "cell_type": "markdown",
   "metadata": {},
   "source": [
    "model without using a pretrained model to boost preformance"
   ]
  },
  {
   "cell_type": "code",
   "execution_count": null,
   "metadata": {},
   "outputs": [],
   "source": [
    "# I chose to use a CNN for the image classifcation. \n",
    "# CNNs preform much better then feed forward networks for image classification tasks and are still easy to implement\n",
    "\n",
    "class CNN(nn.Module):\n",
    "    def __init__(self):\n",
    "        super(CNN, self).__init__\n",
    "        self.conv1 = Conv2d(1, 224, stride=1, ) # 1 input layer because of gray scale images, to 224 convalutions, changing pixel length\n"
   ]
  }
 ],
 "metadata": {
  "kernelspec": {
   "display_name": "base",
   "language": "python",
   "name": "python3"
  },
  "language_info": {
   "codemirror_mode": {
    "name": "ipython",
    "version": 3
   },
   "file_extension": ".py",
   "mimetype": "text/x-python",
   "name": "python",
   "nbconvert_exporter": "python",
   "pygments_lexer": "ipython3",
   "version": "3.12.7"
  }
 },
 "nbformat": 4,
 "nbformat_minor": 2
}
