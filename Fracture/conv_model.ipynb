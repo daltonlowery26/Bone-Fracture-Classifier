{
 "cells": [
  {
   "cell_type": "markdown",
   "metadata": {},
   "source": [
    "### import and implement model"
   ]
  },
  {
   "cell_type": "code",
   "execution_count": 7,
   "metadata": {},
   "outputs": [],
   "source": [
    "# packages\n",
    "import torch.nn as nn\n",
    "import torch.optim as optim\n",
    "from torch.nn import Conv2d, LeakyReLU, MaxPool2d, Linear # import them seperetly because I think its more readable\n",
    "from torchvision.io import read_image\n",
    "from torch.utils.data import DataLoader, random_split\n",
    "import pandas as pd\n",
    "import numpy as np\n",
    "import os \n",
    "import gc\n",
    "import torch"
   ]
  },
  {
   "cell_type": "code",
   "execution_count": 13,
   "metadata": {},
   "outputs": [],
   "source": [
    "# set wd\n",
    "os.chdir('C:/Users/dalto/OneDrive/Pictures/Documents/Projects/PyTorch/Fracture')"
   ]
  },
  {
   "cell_type": "markdown",
   "metadata": {},
   "source": [
    "import data and load onto tensors"
   ]
  },
  {
   "cell_type": "code",
   "execution_count": 12,
   "metadata": {},
   "outputs": [],
   "source": [
    "# image dataset class\n",
    "class ImageDataset():\n",
    "    def __init__(self, class_dir, img_dir): # load labels and the img \n",
    "        self.img_labels = pd.read_csv(class_dir)\n",
    "        self.img_dir = img_dir\n",
    "\n",
    "    def __len__ (self): # len of labels for image\n",
    "        return len(self.img_labels)\n",
    "    \n",
    "    def __getitem__(self, idx):\n",
    "        img_path = os.path.join(self.img_dir, self.img_labels.iloc[idx, 0])  \n",
    "        image = read_image(img_path)  # read image\n",
    "        label = self.img_labels.iloc[idx, 1] # read label\n",
    "        return image, label\n"
   ]
  },
  {
   "cell_type": "code",
   "execution_count": null,
   "metadata": {},
   "outputs": [],
   "source": [
    "# directories for classes and images\n",
    "class_dir = './images/class_ids.csv' \n",
    "image_dir = './images/resize_data' \n",
    "\n",
    "# load dataset using made class function\n",
    "data_set = ImageDataset(class_dir, image_dir) # create dataset\n",
    "\n",
    "# set train and test set\n",
    "train_size = int(.9 * len(data_set)) # using 70% for training, can introduce more testing samples if testing isnt robust enough\n",
    "test_size = len(data_set) - train_size \n",
    "\n",
    "# random split \n",
    "training, testing = random_split(data_set, [train_size, test_size])"
   ]
  },
  {
   "cell_type": "code",
   "execution_count": 5,
   "metadata": {},
   "outputs": [],
   "source": [
    "# define early, needed sooner then other params\n",
    "batch_size = 64 # batch size, may have to reduce because of mem constraints\n",
    "device = \"cuda\" # use gpu"
   ]
  },
  {
   "cell_type": "code",
   "execution_count": 11,
   "metadata": {},
   "outputs": [
    {
     "ename": "ValueError",
     "evalue": "num_samples should be a positive integer value, but got num_samples=0",
     "output_type": "error",
     "traceback": [
      "\u001b[1;31m---------------------------------------------------------------------------\u001b[0m",
      "\u001b[1;31mValueError\u001b[0m                                Traceback (most recent call last)",
      "Cell \u001b[1;32mIn[11], line 3\u001b[0m\n\u001b[0;32m      1\u001b[0m \u001b[38;5;66;03m# load the split data on the tensors\u001b[39;00m\n\u001b[0;32m      2\u001b[0m train_loader \u001b[38;5;241m=\u001b[39m DataLoader(training, batch_size\u001b[38;5;241m=\u001b[39mbatch_size, shuffle\u001b[38;5;241m=\u001b[39m\u001b[38;5;28;01mTrue\u001b[39;00m)\n\u001b[1;32m----> 3\u001b[0m test_loader \u001b[38;5;241m=\u001b[39m \u001b[43mDataLoader\u001b[49m\u001b[43m(\u001b[49m\u001b[43mtesting\u001b[49m\u001b[43m,\u001b[49m\u001b[43m \u001b[49m\u001b[43mbatch_size\u001b[49m\u001b[38;5;241;43m=\u001b[39;49m\u001b[43mbatch_size\u001b[49m\u001b[43m,\u001b[49m\u001b[43m \u001b[49m\u001b[43mshuffle\u001b[49m\u001b[38;5;241;43m=\u001b[39;49m\u001b[38;5;28;43;01mTrue\u001b[39;49;00m\u001b[43m)\u001b[49m\n",
      "File \u001b[1;32mc:\\Users\\dalto\\anaconda3\\Lib\\site-packages\\torch\\utils\\data\\dataloader.py:383\u001b[0m, in \u001b[0;36mDataLoader.__init__\u001b[1;34m(self, dataset, batch_size, shuffle, sampler, batch_sampler, num_workers, collate_fn, pin_memory, drop_last, timeout, worker_init_fn, multiprocessing_context, generator, prefetch_factor, persistent_workers, pin_memory_device, in_order)\u001b[0m\n\u001b[0;32m    381\u001b[0m \u001b[38;5;28;01melse\u001b[39;00m:  \u001b[38;5;66;03m# map-style\u001b[39;00m\n\u001b[0;32m    382\u001b[0m     \u001b[38;5;28;01mif\u001b[39;00m shuffle:\n\u001b[1;32m--> 383\u001b[0m         sampler \u001b[38;5;241m=\u001b[39m \u001b[43mRandomSampler\u001b[49m\u001b[43m(\u001b[49m\u001b[43mdataset\u001b[49m\u001b[43m,\u001b[49m\u001b[43m \u001b[49m\u001b[43mgenerator\u001b[49m\u001b[38;5;241;43m=\u001b[39;49m\u001b[43mgenerator\u001b[49m\u001b[43m)\u001b[49m  \u001b[38;5;66;03m# type: ignore[arg-type]\u001b[39;00m\n\u001b[0;32m    384\u001b[0m     \u001b[38;5;28;01melse\u001b[39;00m:\n\u001b[0;32m    385\u001b[0m         sampler \u001b[38;5;241m=\u001b[39m SequentialSampler(dataset)  \u001b[38;5;66;03m# type: ignore[arg-type]\u001b[39;00m\n",
      "File \u001b[1;32mc:\\Users\\dalto\\anaconda3\\Lib\\site-packages\\torch\\utils\\data\\sampler.py:165\u001b[0m, in \u001b[0;36mRandomSampler.__init__\u001b[1;34m(self, data_source, replacement, num_samples, generator)\u001b[0m\n\u001b[0;32m    160\u001b[0m     \u001b[38;5;28;01mraise\u001b[39;00m \u001b[38;5;167;01mTypeError\u001b[39;00m(\n\u001b[0;32m    161\u001b[0m         \u001b[38;5;124mf\u001b[39m\u001b[38;5;124m\"\u001b[39m\u001b[38;5;124mreplacement should be a boolean value, but got replacement=\u001b[39m\u001b[38;5;132;01m{\u001b[39;00m\u001b[38;5;28mself\u001b[39m\u001b[38;5;241m.\u001b[39mreplacement\u001b[38;5;132;01m}\u001b[39;00m\u001b[38;5;124m\"\u001b[39m\n\u001b[0;32m    162\u001b[0m     )\n\u001b[0;32m    164\u001b[0m \u001b[38;5;28;01mif\u001b[39;00m \u001b[38;5;129;01mnot\u001b[39;00m \u001b[38;5;28misinstance\u001b[39m(\u001b[38;5;28mself\u001b[39m\u001b[38;5;241m.\u001b[39mnum_samples, \u001b[38;5;28mint\u001b[39m) \u001b[38;5;129;01mor\u001b[39;00m \u001b[38;5;28mself\u001b[39m\u001b[38;5;241m.\u001b[39mnum_samples \u001b[38;5;241m<\u001b[39m\u001b[38;5;241m=\u001b[39m \u001b[38;5;241m0\u001b[39m:\n\u001b[1;32m--> 165\u001b[0m     \u001b[38;5;28;01mraise\u001b[39;00m \u001b[38;5;167;01mValueError\u001b[39;00m(\n\u001b[0;32m    166\u001b[0m         \u001b[38;5;124mf\u001b[39m\u001b[38;5;124m\"\u001b[39m\u001b[38;5;124mnum_samples should be a positive integer value, but got num_samples=\u001b[39m\u001b[38;5;132;01m{\u001b[39;00m\u001b[38;5;28mself\u001b[39m\u001b[38;5;241m.\u001b[39mnum_samples\u001b[38;5;132;01m}\u001b[39;00m\u001b[38;5;124m\"\u001b[39m\n\u001b[0;32m    167\u001b[0m     )\n",
      "\u001b[1;31mValueError\u001b[0m: num_samples should be a positive integer value, but got num_samples=0"
     ]
    }
   ],
   "source": [
    "# load the split data on the tensors\n",
    "train_loader = DataLoader(training, batch_size=batch_size, shuffle=True)\n",
    "test_loader = DataLoader(testing, batch_size=batch_size, shuffle=True)\n"
   ]
  },
  {
   "cell_type": "code",
   "execution_count": 13,
   "metadata": {},
   "outputs": [
    {
     "name": "stdout",
     "output_type": "stream",
     "text": [
      "True\n"
     ]
    }
   ],
   "source": [
    "print(torch.cuda.is_available()) # check if gpu is working correctly"
   ]
  },
  {
   "cell_type": "markdown",
   "metadata": {},
   "source": [
    "model without transfer learning (will add just wanted to build one from stratch)"
   ]
  },
  {
   "cell_type": "code",
   "execution_count": 8,
   "metadata": {},
   "outputs": [],
   "source": [
    "# I chose to use a CNN for the image classifcation. \n",
    "# CNNs preform much better then feed forward networks for image classification tasks and are still easy to implement\n",
    "\n",
    "class CNN (nn.Module):\n",
    "    def __init__(self):\n",
    "        super().__init__()\n",
    "        # 1 input layer, to 32 filters, stride of one pixel, 3x3 kernal, padding = (kernal - 1)/2\n",
    "\n",
    "        # 3 layers like this\n",
    "        self.conv1 = Conv2d(in_channels=1, out_channels=32, stride=1, kernel_size=3, padding=1) \n",
    "        self.Lrelu1 = LeakyReLU() # better preformance on average compared to regular ReLu\n",
    "        self.conv2 = Conv2d(in_channels=32, out_channels=32, stride=1, kernel_size=3, padding=1)\n",
    "        self.Lrelu2 = LeakyReLU()\n",
    "        self.maxpool1 = MaxPool2d(kernel_size = 2, stride = 2)\n",
    "\n",
    "        # 3 layers like this\n",
    "        self.conv3 = Conv2d(in_channels=32, out_channels=64, stride=1, kernel_size=3, padding=1) \n",
    "        self.Lrelu3 = LeakyReLU() # better preformance on average compared to regular ReLu\n",
    "        self.conv4 = Conv2d(in_channels=64, out_channels=64, stride=1, kernel_size=3, padding=1)\n",
    "        self.Lrelu4 = LeakyReLU()\n",
    "        self.maxpool2 = MaxPool2d(kernel_size = 2, stride = 2)\n",
    "\n",
    "        # 3 layers like this\n",
    "        self.conv5 = Conv2d(in_channels=64, out_channels=128, stride=1, kernel_size=3, padding=1) \n",
    "        self.Lrelu5 = LeakyReLU() # better preformance on average compared to regular ReLu\n",
    "        self.conv6 = Conv2d(in_channels=128, out_channels=128, stride=1, kernel_size=3, padding=1)\n",
    "        self.Lrelu6 = LeakyReLU()\n",
    "        self.maxpool3 = MaxPool2d(kernel_size = 2, stride = 2)\n",
    "\n",
    "        # fully connected layers\n",
    "        self.fc1 = Linear(100352, 1024) # 100352 = 128 * 28 * 28 | 28 = W/8\n",
    "        self.relu1 = LeakyReLU()\n",
    "        self.fc2 = Linear(1024, 512)\n",
    "        self.relu2 = LeakyReLU()\n",
    "        self.fc3 = Linear(512, 256)\n",
    "        self.relu3 = LeakyReLU()\n",
    "        self.fc4 = nn.Linear(256, 1) # one output\n",
    "\n",
    "        self.dropout = nn.Dropout(p=0.2) # 20% chance a nueron would be dropped, \n",
    "        # this reduces overfitting making one neuron not resposnible for everything, also improves regualrization\n",
    "\n",
    "    def forward(self, x):\n",
    "        # Pass through Convolutional Block 1\n",
    "        x = self.conv1(x)\n",
    "        x = self.Lrelu1(x)\n",
    "        x = self.conv2(x)\n",
    "        x = self.Lrelu2(x)\n",
    "        x = self.maxpool1(x)\n",
    "\n",
    "        # Pass through Convolutional Block 2\n",
    "        x = self.conv3(x)\n",
    "        x = self.Lrelu3(x)\n",
    "        x = self.conv4(x)\n",
    "        x = self.Lrelu4(x)\n",
    "        x = self.maxpool2(x)\n",
    "\n",
    "        # Pass through Convolutional Block 3\n",
    "        x = self.conv5(x)\n",
    "        x = self.Lrelu5(x)\n",
    "        x = self.conv6(x)\n",
    "        x = self.Lrelu6(x)\n",
    "        x = self.maxpool3(x)\n",
    "\n",
    "        x = torch.flatten(x, 1)\n",
    "\n",
    "        # Pass through Fully Connected Layers\n",
    "        x = self.fc1(x)\n",
    "        x = self.relu1(x)\n",
    "        x = self.fc2(x)\n",
    "        x = self.relu2(x)\n",
    "        x = self.fc3(x)\n",
    "        x = self.relu3(x)\n",
    "\n",
    "        # Pass through the final Linear layer\n",
    "        x = self.fc4(x)\n",
    "\n",
    "        # Apply Dropout, sigmoind applied in loss function, better preformance\n",
    "        x = self.dropout(x) # Apply dropout\n",
    "\n",
    "        return x\n"
   ]
  },
  {
   "cell_type": "markdown",
   "metadata": {},
   "source": [
    "model training loop"
   ]
  },
  {
   "cell_type": "code",
   "execution_count": 9,
   "metadata": {},
   "outputs": [
    {
     "data": {
      "text/plain": [
       "CNN(\n",
       "  (conv1): Conv2d(1, 32, kernel_size=(3, 3), stride=(1, 1), padding=(1, 1))\n",
       "  (Lrelu1): LeakyReLU(negative_slope=0.01)\n",
       "  (conv2): Conv2d(32, 32, kernel_size=(3, 3), stride=(1, 1), padding=(1, 1))\n",
       "  (Lrelu2): LeakyReLU(negative_slope=0.01)\n",
       "  (maxpool1): MaxPool2d(kernel_size=2, stride=2, padding=0, dilation=1, ceil_mode=False)\n",
       "  (conv3): Conv2d(32, 64, kernel_size=(3, 3), stride=(1, 1), padding=(1, 1))\n",
       "  (Lrelu3): LeakyReLU(negative_slope=0.01)\n",
       "  (conv4): Conv2d(64, 64, kernel_size=(3, 3), stride=(1, 1), padding=(1, 1))\n",
       "  (Lrelu4): LeakyReLU(negative_slope=0.01)\n",
       "  (maxpool2): MaxPool2d(kernel_size=2, stride=2, padding=0, dilation=1, ceil_mode=False)\n",
       "  (conv5): Conv2d(64, 128, kernel_size=(3, 3), stride=(1, 1), padding=(1, 1))\n",
       "  (Lrelu5): LeakyReLU(negative_slope=0.01)\n",
       "  (conv6): Conv2d(128, 128, kernel_size=(3, 3), stride=(1, 1), padding=(1, 1))\n",
       "  (Lrelu6): LeakyReLU(negative_slope=0.01)\n",
       "  (maxpool3): MaxPool2d(kernel_size=2, stride=2, padding=0, dilation=1, ceil_mode=False)\n",
       "  (fc1): Linear(in_features=100352, out_features=1024, bias=True)\n",
       "  (relu1): LeakyReLU(negative_slope=0.01)\n",
       "  (fc2): Linear(in_features=1024, out_features=512, bias=True)\n",
       "  (relu2): LeakyReLU(negative_slope=0.01)\n",
       "  (fc3): Linear(in_features=512, out_features=256, bias=True)\n",
       "  (relu3): LeakyReLU(negative_slope=0.01)\n",
       "  (fc4): Linear(in_features=256, out_features=1, bias=True)\n",
       "  (dropout): Dropout(p=0.2, inplace=False)\n",
       ")"
      ]
     },
     "execution_count": 9,
     "metadata": {},
     "output_type": "execute_result"
    }
   ],
   "source": [
    "# run model on GPU\n",
    "model = CNN()\n",
    "model.to(device)"
   ]
  },
  {
   "cell_type": "code",
   "execution_count": 10,
   "metadata": {},
   "outputs": [],
   "source": [
    "learning_rate = 0.001# standard learning rate\n",
    "loss_fn = nn.BCEWithLogitsLoss() # add activation function in here\n",
    "optimizer = optim.AdamW(model.parameters(), lr=learning_rate) # adam w has better preformance, weight decay is applied sep, \n",
    "# leads to more peak ram may have to reduce batch size"
   ]
  },
  {
   "cell_type": "code",
   "execution_count": 12,
   "metadata": {},
   "outputs": [],
   "source": [
    "# early stopping class\n",
    "class early_stopping:\n",
    "    def __init__(self):\n",
    "        self.patience = 15 # wait 15 rounds, can adjust if needed\n",
    "        self.steps = 0\n",
    "        self.loss = float('inf') # so first round it takes loss val\n",
    "    def stop(self, val_loss):\n",
    "        if val_loss < self.loss:\n",
    "            self.loss = val_loss\n",
    "            self.steps = 0\n",
    "        if val_loss > self.loss:\n",
    "            self.steps += 1\n",
    "        if self.steps >= self.patience: \n",
    "            return True\n",
    "        else:\n",
    "            return False\n",
    "\n",
    "stopper = early_stopping()"
   ]
  },
  {
   "cell_type": "code",
   "execution_count": 14,
   "metadata": {},
   "outputs": [],
   "source": [
    "def training(epochs):\n",
    "    model.train()  # Set the model to training mode\n",
    "    training_losses = []  # To track loss history\n",
    "    for i in range(epochs):\n",
    "        tloss = 0.0\n",
    "        n_rounds = 0\n",
    "        for batch_idx, (image, label) in enumerate(train_loader):\n",
    "            # Move data to device and ensure correct data types\n",
    "            image = image.to(device).float()\n",
    "            label = label.to(device).float()\n",
    "        \n",
    "            # Zero gradients\n",
    "            optimizer.zero_grad()\n",
    "        \n",
    "            # Forward pass\n",
    "            predictions = model(image)\n",
    "            predictions = predictions.squeeze()\n",
    "            loss = loss_fn(predictions, label)\n",
    "        \n",
    "            # Backward pass and optimization\n",
    "            loss.backward()\n",
    "            optimizer.step()\n",
    "\n",
    "            # Accumulate loss\n",
    "            tloss += loss.item()\n",
    "            n_rounds = batch_idx + 1\n",
    "            avg_loss = tloss / n_rounds\n",
    "            round(avg_loss, 2)\n",
    "\n",
    "            # early stopping stats\n",
    "            min_avg_loss = float('inf')\n",
    "                        \n",
    "            # early stopping\n",
    "            if avg_loss < min_avg_loss:\n",
    "                min_avg_loss = round(avg_loss, 2)\n",
    "                round_count = 0\n",
    "            if min_avg_loss > avg_loss:\n",
    "                round_count += 1\n",
    "            if round_count > 2:\n",
    "                break\n",
    "\n",
    "        print(f\"at epoch {i}, loss is {avg_loss:.4f}\") \n",
    "    \n",
    "    return model, tloss\n",
    "\n"
   ]
  },
  {
   "cell_type": "code",
   "execution_count": 15,
   "metadata": {},
   "outputs": [],
   "source": [
    "# retrain model / \"delete\"\n",
    "torch.cuda.empty_cache()\n",
    "gc.collect()\n",
    "optimizer = optim.AdamW(model.parameters(), lr=learning_rate)"
   ]
  },
  {
   "cell_type": "code",
   "execution_count": 18,
   "metadata": {},
   "outputs": [
    {
     "name": "stdout",
     "output_type": "stream",
     "text": [
      "at epoch 0, loss is 0.1624\n",
      "at epoch 1, loss is 0.1925\n",
      "at epoch 2, loss is 0.1615\n",
      "at epoch 3, loss is 0.1436\n"
     ]
    }
   ],
   "source": [
    "t_model, tloss = training(4)"
   ]
  },
  {
   "cell_type": "code",
   "execution_count": 19,
   "metadata": {},
   "outputs": [
    {
     "name": "stdout",
     "output_type": "stream",
     "text": [
      "0.5114248181706114\n"
     ]
    }
   ],
   "source": [
    "results = [] # array for res\n",
    "model.eval() # set model to eval mode, disables dropout\n",
    "\n",
    "# testing loop\n",
    "for images, labels in test_loader:\n",
    "    images = images.to(device).float() # load onto device with correct data type\n",
    "    labels = labels.to(device).float()\n",
    "\n",
    "    predictions = model(images) # make predections on image in model\n",
    "    preds_1_0 = torch.where(predictions>0.5, 1, 0)\n",
    "    correct = (preds_1_0 == labels)\n",
    "    results.append(correct.detach().cpu().numpy().mean())\n",
    "\n",
    "accuracy = np.array(results).mean()\n",
    "print(accuracy)\n"
   ]
  }
 ],
 "metadata": {
  "kernelspec": {
   "display_name": "base",
   "language": "python",
   "name": "python3"
  },
  "language_info": {
   "codemirror_mode": {
    "name": "ipython",
    "version": 3
   },
   "file_extension": ".py",
   "mimetype": "text/x-python",
   "name": "python",
   "nbconvert_exporter": "python",
   "pygments_lexer": "ipython3",
   "version": "3.12.7"
  }
 },
 "nbformat": 4,
 "nbformat_minor": 2
}
